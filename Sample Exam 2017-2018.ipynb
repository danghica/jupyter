{
 "cells": [
  {
   "cell_type": "code",
   "execution_count": 4,
   "metadata": {},
   "outputs": [
    {
     "name": "stderr",
     "output_type": "stream",
     "text": [
      "/Users/danghica/.opam/4.03.0/lib/bytes: added to search path\n",
      "/Users/danghica/.opam/4.03.0/lib/base64: added to search path\n",
      "/Users/danghica/.opam/4.03.0/lib/base64/base64.cma: loaded\n",
      "/Users/danghica/.opam/4.03.0/lib/ocaml/compiler-libs: added to search path\n",
      "/Users/danghica/.opam/4.03.0/lib/ocaml/compiler-libs/ocamlcommon.cma: loaded\n",
      "/Users/danghica/.opam/4.03.0/lib/easy-format: added to search path\n",
      "/Users/danghica/.opam/4.03.0/lib/easy-format/easy_format.cma: loaded\n",
      "/Users/danghica/.opam/4.03.0/lib/biniou: added to search path\n",
      "/Users/danghica/.opam/4.03.0/lib/biniou/biniou.cma: loaded\n",
      "/Users/danghica/.opam/4.03.0/lib/yojson: added to search path\n",
      "/Users/danghica/.opam/4.03.0/lib/yojson/yojson.cma: loaded\n",
      "/Users/danghica/.opam/4.03.0/lib/result: added to search path\n",
      "/Users/danghica/.opam/4.03.0/lib/result/result.cma: loaded\n",
      "/Users/danghica/.opam/4.03.0/lib/ppx_deriving: added to search path\n",
      "/Users/danghica/.opam/4.03.0/lib/ppx_deriving/ppx_deriving_runtime.cma: loaded\n",
      "/Users/danghica/.opam/4.03.0/lib/ppx_deriving_yojson: added to search path\n",
      "/Users/danghica/.opam/4.03.0/lib/ppx_deriving_yojson/ppx_deriving_yojson_runtime.cma: loaded\n",
      "/Users/danghica/.opam/4.03.0/lib/ocaml/unix.cma: loaded\n",
      "/Users/danghica/.opam/4.03.0/lib/uuidm: added to search path\n",
      "/Users/danghica/.opam/4.03.0/lib/uuidm/uuidm.cma: loaded\n",
      "/Users/danghica/.opam/4.03.0/lib/jupyter: added to search path\n",
      "/Users/danghica/.opam/4.03.0/lib/jupyter/jupyter.cma: loaded\n",
      "/Users/danghica/.opam/4.03.0/lib/jupyter/notebook: added to search path\n",
      "/Users/danghica/.opam/4.03.0/lib/jupyter/notebook/jupyter_notebook.cma: loaded\n"
     ]
    }
   ],
   "source": [
    "#require \"jupyter.notebook\" "
   ]
  },
  {
   "cell_type": "markdown",
   "metadata": {},
   "source": [
    "# Sample Exam Answers\n",
    "## 2017-2018\n",
    "\n",
    "### Question 1 [40pts]\n",
    "\n",
    "*Note:* \n",
    "* This question examines knowledge of lecture material. \n",
    "* The 10 sub-questions are selected from the slides, each from one week. \n",
    "* They require no problem solving skills. \n",
    "* Make your answer concise.\n",
    "* The marker will give the benefit of the doubt.\n",
    "\n",
    "Sample answers:\n",
    "\n",
    "1. *What is a deterministic rewrite system?*  \n",
    "    There is a unique sequence of applicable rewrites. \n",
    "    \n",
    "2. *What is the value of the expression `x + (let x = x + 3 in x + x) + x`  ?*\n",
    "```\n",
    "= x + (x+3 + x+3) + x = 4 * x + 6\n",
    "```\n",
    "Note that the answer *undefined due to variable `x` being undefined* is also acceptable.\n",
    "\n",
    "3. *Enumerate some of the advantages of pattern-matching versus if statements.*  \n",
    "   Exhaustive case coverage, unreachable code coverage, better syntax (variable extraction).\n",
    "   \n",
    "4. *Write a non-tail-recursive OCaml function computing the maximum element of a list.*"
   ]
  },
  {
   "cell_type": "code",
   "execution_count": 5,
   "metadata": {},
   "outputs": [
    {
     "name": "stderr",
     "output_type": "stream",
     "text": [
      "File \"[5]\", line 1, characters 12-58:\n",
      "Warning 8: this pattern-matching is not exhaustive.\n",
      "Here is an example of a value that is not matched:\n",
      "[]\n"
     ]
    },
    {
     "data": {
      "text/plain": [
       "val f : 'a list -> 'a = <fun>\n"
      ]
     },
     "execution_count": 5,
     "metadata": {},
     "output_type": "execute_result"
    }
   ],
   "source": [
    "let rec f = function \n",
    "| [x] -> x\n",
    "| x :: xs -> max x (f xs)"
   ]
  },
  {
   "cell_type": "code",
   "execution_count": 6,
   "metadata": {},
   "outputs": [
    {
     "data": {
      "text/plain": [
       "- : int = 7\n"
      ]
     },
     "execution_count": 6,
     "metadata": {},
     "output_type": "execute_result"
    }
   ],
   "source": [
    "(* Small test *)\n",
    "f [1;2;3;2;1;7]"
   ]
  },
  {
   "cell_type": "markdown",
   "metadata": {},
   "source": [
    "`5`. *Write the same function as above but tail-recursively.* "
   ]
  },
  {
   "cell_type": "code",
   "execution_count": 7,
   "metadata": {},
   "outputs": [
    {
     "data": {
      "text/plain": [
       "val f' : 'a -> 'a list -> 'a = <fun>\n"
      ]
     },
     "execution_count": 7,
     "metadata": {},
     "output_type": "execute_result"
    }
   ],
   "source": [
    "let rec f' m = function \n",
    "| [] -> m\n",
    "| x :: xs -> f' (max m x) xs"
   ]
  },
  {
   "cell_type": "code",
   "execution_count": 8,
   "metadata": {},
   "outputs": [
    {
     "data": {
      "text/plain": [
       "- : int = 3\n"
      ]
     },
     "execution_count": 8,
     "metadata": {},
     "output_type": "execute_result"
    }
   ],
   "source": [
    "(* Small test *)\n",
    "f' 1 [1;2;3;2;1]"
   ]
  },
  {
   "cell_type": "markdown",
   "metadata": {},
   "source": [
    "\n",
    "`6`.  *Using the Curry-Howard isomorphism prove double-negation introduction by constructing the OCaml term of the appropriate type.*"
   ]
  },
  {
   "cell_type": "code",
   "execution_count": 9,
   "metadata": {},
   "outputs": [
    {
     "data": {
      "text/plain": [
       "type empty\n"
      ]
     },
     "execution_count": 9,
     "metadata": {},
     "output_type": "execute_result"
    },
    {
     "data": {
      "text/plain": [
       "val dni : 'a -> ('a -> empty) -> empty = <fun>\n"
      ]
     },
     "execution_count": 9,
     "metadata": {},
     "output_type": "execute_result"
    }
   ],
   "source": [
    "type empty\n",
    "let dni (a : 'a) (nota : 'a -> empty) = nota a"
   ]
  },
  {
   "cell_type": "markdown",
   "metadata": {},
   "source": [
    "*Obs:* For `'b = empty`. "
   ]
  },
  {
   "cell_type": "markdown",
   "metadata": {},
   "source": [
    "`7`. *Explain when and how quick-sort and merge-sort have different performance characteristics.*  \n",
    "   When the input is already sorted quick-sort has poor performance due to the fact that the list is not split in two lists of approximately same length. "
   ]
  },
  {
   "cell_type": "markdown",
   "metadata": {},
   "source": [
    "`8`. *Define addition for Peano natural numbers.*"
   ]
  },
  {
   "cell_type": "code",
   "execution_count": 10,
   "metadata": {},
   "outputs": [
    {
     "data": {
      "text/plain": [
       "type nat = Zero | Suc of nat\n"
      ]
     },
     "execution_count": 10,
     "metadata": {},
     "output_type": "execute_result"
    },
    {
     "data": {
      "text/plain": [
       "val add : nat -> nat -> nat = <fun>\n"
      ]
     },
     "execution_count": 10,
     "metadata": {},
     "output_type": "execute_result"
    }
   ],
   "source": [
    "type nat = Zero | Suc of nat\n",
    "let rec add m n = match m with \n",
    "| Zero -> n\n",
    "| Suc m -> Suc (add m n)"
   ]
  },
  {
   "cell_type": "markdown",
   "metadata": {},
   "source": [
    "`9`. *Define the type of binary trees in OCaml.*\n"
   ]
  },
  {
   "cell_type": "code",
   "execution_count": 11,
   "metadata": {},
   "outputs": [
    {
     "data": {
      "text/plain": [
       "type 'a binTree = Leaf of 'a | Node of 'a binTree * 'a binTree\n"
      ]
     },
     "execution_count": 11,
     "metadata": {},
     "output_type": "execute_result"
    }
   ],
   "source": [
    "type 'a binTree = Leaf of 'a | Node of 'a binTree * 'a binTree"
   ]
  },
  {
   "cell_type": "markdown",
   "metadata": {},
   "source": [
    "*Obs:* Any type of binary tree would be acceptable. "
   ]
  },
  {
   "cell_type": "markdown",
   "metadata": {},
   "source": [
    "`10`. *Define the function map for lists.*"
   ]
  },
  {
   "cell_type": "code",
   "execution_count": 12,
   "metadata": {},
   "outputs": [
    {
     "data": {
      "text/plain": [
       "val map : ('a -> 'b) -> 'a list -> 'b list = <fun>\n"
      ]
     },
     "execution_count": 12,
     "metadata": {},
     "output_type": "execute_result"
    }
   ],
   "source": [
    "let rec map f = function\n",
    "| [] -> []\n",
    "| x :: xs -> (f x) :: (map f xs)"
   ]
  },
  {
   "cell_type": "code",
   "execution_count": 13,
   "metadata": {},
   "outputs": [
    {
     "data": {
      "text/plain": [
       "- : int list = [2; 3; 4; 3; 2]\n"
      ]
     },
     "execution_count": 13,
     "metadata": {},
     "output_type": "execute_result"
    }
   ],
   "source": [
    "(* Small test *)\n",
    "map ( (+) 1) [1;2;3;2;1]"
   ]
  },
  {
   "cell_type": "markdown",
   "metadata": {},
   "source": [
    "\n",
    "### Question 2 [30pts]\n",
    "\n",
    "**Observations:**\n",
    "* This question is a medium difficulty assignment (or very similar to assignment) question. \n",
    "* It is chosen at random from the current bank of assignment questions (possibly with small variation). \n",
    "* A moderate amount of problem-solving skill required. \n",
    "* The marker will give benefit of the doubt.\n",
    "* Partial credit will be given generously. \n",
    "* Answering Q1 and Q2 perfectly, which is achievable, ensures at 1st.\n",
    "* The actual exam will have an Appendix of allowable functions which you can assume and use without re-implementing them. It includes map, fold, mem, sort, etc. \n",
    "* If some function you may want to use, is not in the Appendix you need to provide the implementation. \n",
    "* Marking scheme:\n",
    "  * Up to 10 pts : Partial solution or serious bugs\n",
    "  * Up to 20 pts : Naive solution or minor bugs\n",
    "  * Up to 30 pts : Well expressed efficient solution\n",
    "\n",
    "**The question:** *One difference between a set and a list is that in a set each element occurs exactly once. Efficiently implement a setify function which returns the list of elements in a list, all occurring exactly once, in any order.* \n",
    "\n",
    "**Notes:** \n",
    "* We are going to use the often-discussed trick of sorting the list first. Sorting is an efficient operation which makes solving the problem easy. \n",
    "* I will assume `sort` is provided in the appendix. "
   ]
  },
  {
   "cell_type": "code",
   "execution_count": 14,
   "metadata": {},
   "outputs": [
    {
     "data": {
      "text/plain": [
       "val remdup : 'a list -> 'a list = <fun>\n"
      ]
     },
     "execution_count": 14,
     "metadata": {},
     "output_type": "execute_result"
    }
   ],
   "source": [
    "(* This helper function eliminates consecutive duplicates. *)\n",
    "let rec remdup = function \n",
    "| [] -> []\n",
    "| [x] -> [x]\n",
    "| x :: x' :: xs when x = x' -> remdup (x' :: xs)\n",
    "| x :: x' :: xs             -> x :: (remdup (x' :: xs))"
   ]
  },
  {
   "cell_type": "code",
   "execution_count": 15,
   "metadata": {},
   "outputs": [
    {
     "data": {
      "text/plain": [
       "- : int list = [1; 2; 3; 4; 5]\n"
      ]
     },
     "execution_count": 15,
     "metadata": {},
     "output_type": "execute_result"
    }
   ],
   "source": [
    "(* Small test *)\n",
    "remdup [1;1;2;3;3;3;4;5]"
   ]
  },
  {
   "cell_type": "code",
   "execution_count": 16,
   "metadata": {},
   "outputs": [
    {
     "data": {
      "text/plain": [
       "val setify : 'a list -> 'a list = <fun>\n"
      ]
     },
     "execution_count": 16,
     "metadata": {},
     "output_type": "execute_result"
    }
   ],
   "source": [
    "let setify xs = xs |> List.sort compare |> remdup"
   ]
  },
  {
   "cell_type": "code",
   "execution_count": 17,
   "metadata": {},
   "outputs": [
    {
     "data": {
      "text/plain": [
       "- : int = 0\n"
      ]
     },
     "execution_count": 17,
     "metadata": {},
     "output_type": "execute_result"
    }
   ],
   "source": [
    "compare 10 10"
   ]
  },
  {
   "cell_type": "code",
   "execution_count": 18,
   "metadata": {},
   "outputs": [
    {
     "data": {
      "text/plain": [
       "- : int list = [1; 2; 3; 4; 5]\n"
      ]
     },
     "execution_count": 18,
     "metadata": {},
     "output_type": "execute_result"
    }
   ],
   "source": [
    "(* Small test *)\n",
    "setify [1;2;3;4;5;4;3;2;3;4;3;2;1]"
   ]
  },
  {
   "cell_type": "markdown",
   "metadata": {},
   "source": [
    "### Question 3 [30pts]\n",
    "\n",
    "We propose the following representation of geometric paths:\n",
    "* The symbol `I` represents a horizongal line segment\n",
    "* The symbol `X` represents two crossing line segments\n",
    "* The symbol `C` represents a half-loop\n",
    "* The `-*` operation represents the horizontal flipping of a path diagram\n",
    "* The `-.-` operation represents the horizontal gluing of two path diagrams so that the loose ends on the left match the loose ends on the right. In order for this operation to be well-defined the number of loose ends on both ends need to be the same\n",
    "* The `-x-` operation represents the vertical stacking of two diagrams, extending the loose ends so they line up. This operation is always well defined. \n",
    "\n",
    "Examples:\n",
    "\n",
    "* A circle is represented as `C.C*`\n",
    "* A horizontal figure-8 is represented as `C.X.C*`\n",
    "* A horizontal oval is reprezented as `C.(IxI).C*`\n",
    "* Note that X*=X\n",
    "* An \"open knot\" path like below is described by `(CxI).(IxX).(XxI).(IxX).(C*xI)`. "
   ]
  },
  {
   "cell_type": "code",
   "execution_count": 19,
   "metadata": {},
   "outputs": [
    {
     "data": {
      "image/png": "[encoded data removed]"
     },
     "metadata": {},
     "output_type": "display_data"
    },
    {
     "data": {
      "text/plain": [
       "- : Jupyter_notebook.display_id = <abstr>\n"
      ]
     },
     "execution_count": 19,
     "metadata": {},
     "output_type": "execute_result"
    }
   ],
   "source": [
    "Jupyter_notebook.display_file ~base64:true \"image/png\" \"path.png\""
   ]
  },
  {
   "cell_type": "markdown",
   "metadata": {},
   "source": [
    "**Task:** The OCaml representation of such a path is a tree with leaves `C, I, X` and nodes for the operations `(-x-, -.-, -*)`. Your task is to write an OCaml function which returns true if and only if the argument represents a valid closed path.  \n",
    "\n",
    "For example a circle, an oval, or a figure-8 are all closed paths. But a knot is an open path. Also, an expression such as `C.I.C*` is not an open path because it is ill-formed, since `C` has two loose ends on the right and I only one. "
   ]
  },
  {
   "cell_type": "markdown",
   "metadata": {},
   "source": [
    "**Notes:**\n",
    "* Question 3 is of *exceptional* difficulty.\n",
    "* Marks over 70% should denote exceptional ability and achievement. \n",
    "* It requires advanced problem solving and implementation skills. \n",
    "* Partial marks will be awarded reluctantly. "
   ]
  },
  {
   "cell_type": "code",
   "execution_count": 20,
   "metadata": {},
   "outputs": [
    {
     "data": {
      "text/plain": [
       "type path = C | I | X | Par of path * path | Seq of path * path | Neg of path\n"
      ]
     },
     "execution_count": 20,
     "metadata": {},
     "output_type": "execute_result"
    }
   ],
   "source": [
    "type path = C | I | X | Par of path * path | Seq of path * path | Neg of path "
   ]
  },
  {
   "cell_type": "code",
   "execution_count": 21,
   "metadata": {},
   "outputs": [
    {
     "data": {
      "text/plain": [
       "val f : 'a list -> 'a = <fun>\n"
      ]
     },
     "execution_count": 21,
     "metadata": {},
     "output_type": "execute_result"
    },
    {
     "data": {
      "text/plain": [
       "val graph_of_path :\n",
       "  path * int list -> int list * int list * (int * int) list * int list =\n",
       "  <fun>\n"
      ]
     },
     "execution_count": 21,
     "metadata": {},
     "output_type": "execute_result"
    }
   ],
   "source": [
    "(* Auxiliary function: Extend a list of integers with a new value. \n",
    "The function f has been defined above, takes the max of a list. *)\n",
    "let f xs = List.fold_left max (List.hd xs) xs\n",
    "\n",
    "(* \n",
    "Convert (evaluate) the path expression into a relation-like graph definition (source, target) list\n",
    "We use the following tuple to represent a path:\n",
    "    input nodes, output nodes, edges, nodes\n",
    "Note that in order to facilitate efficient loop checking we also put the smaller node first in any edge.\n",
    "*)\n",
    "\n",
    "let rec graph_of_path = function \n",
    "| C, nodes -> let n1 = f nodes + 1 in \n",
    "              let n2 = f nodes + 2 in \n",
    "              (* The C path has no inputs, two outputs, connected *)\n",
    "              [], [n1; n2], [(n1, n2)], (n1 :: n2 :: nodes)\n",
    "| I, nodes -> let n1 = f nodes + 1 in \n",
    "              let n2 = f nodes + 2 in \n",
    "              (* The I path has an input, an output, connected *)\n",
    "              [n1], [n2], [(n1, n2)], (n1 :: n2 :: nodes)\n",
    "| X, nodes -> let n1 = f nodes + 1 in \n",
    "              let n2 = f nodes + 2 in \n",
    "              let n3 = f nodes + 3 in \n",
    "              let n4 = f nodes + 4 in \n",
    "              (* The X path has two inputs, two outputs, cross-connected *)\n",
    "              [n1; n2], [n3; n4], [(n1, n4); (n2, n3)], (n1 :: n2 :: n3 :: n4 :: nodes)\n",
    "| Par (p1, p2), nodes -> \n",
    "              (* First we evaluate the sub-paths to graphs, to be composed *)\n",
    "              let (i1, o1, r1, nodes1) = graph_of_path (p1, nodes) in\n",
    "              let (i2, o2, r2, nodes2) = graph_of_path (p2, nodes1) in \n",
    "              (* The two interfaces are concatenated and we take the union of the relations *)\n",
    "              i1 @ i2, o1 @ o2, r1 @ r2, nodes2\n",
    "| Seq (p1, p2), nodes -> \n",
    "              (* First we evaluate the sub-paths to graphs, to be composed *)\n",
    "              let (i1, o1, r1, nodes1) = graph_of_path (p1, nodes) in\n",
    "              let (i2, o2, r2, nodes2) = graph_of_path (p2, nodes1) in \n",
    "              (* We take the first input, the second output, the union of the relations plus new edges \n",
    "              from the first output to the second input, sorted so that the first element is smaller *)\n",
    "              i1, o2, r1 @ r2 @ (List.combine o1 i2 |> List.map (fun (x, y) -> min x y, max x y)), nodes2\n",
    "| Neg p, nodes -> \n",
    "              (* First we evaluate the sub-path then swap interfaces *)\n",
    "              let (i, o, r, nodes1) = graph_of_path (p, nodes) in\n",
    "              o, i, r, nodes1"
   ]
  },
  {
   "cell_type": "code",
   "execution_count": 22,
   "metadata": {},
   "outputs": [
    {
     "data": {
      "text/plain": [
       "val p : path = Seq (Seq (C, Par (I, I)), Neg C)\n"
      ]
     },
     "execution_count": 22,
     "metadata": {},
     "output_type": "execute_result"
    },
    {
     "data": {
      "text/plain": [
       "val g : int list * int list * (int * int) list * int list =\n",
       "  ([], [], [(1, 2); (3, 4); (5, 6); (1, 3); (2, 5); (7, 8); (4, 7); (6, 8)],\n",
       "   [7; 8; 5; 6; 3; 4; 1; 2; 0])\n"
      ]
     },
     "execution_count": 22,
     "metadata": {},
     "output_type": "execute_result"
    }
   ],
   "source": [
    "(* Small test *)\n",
    "let p = \n",
    "    let p0 = Par (I, I) in \n",
    "    let p1 = Seq (C, p0) in \n",
    "    Seq (p1, Neg C) \n",
    "    \n",
    "let g = graph_of_path (p, [0])"
   ]
  },
  {
   "cell_type": "code",
   "execution_count": 23,
   "metadata": {},
   "outputs": [
    {
     "data": {
      "text/plain": [
       "val isloop : ('a * 'a) list -> bool = <fun>\n"
      ]
     },
     "execution_count": 23,
     "metadata": {},
     "output_type": "execute_result"
    }
   ],
   "source": [
    "(* \n",
    "Auxiliary function to check efficiently whether a set of edges defines a loop.\n",
    "We assume the set of edges is sorted by the first node. \n",
    "Since the edges are sorted, and the nodes in each edges are sorted, we can just remove from the top. \n",
    "*)\n",
    "let rec isloop = function \n",
    "| [] -> true\n",
    "| [(x, y)] -> x = y \n",
    "| (x, y) :: (x', y') :: es when x = x' -> isloop ((min y y', max y y') :: es)\n",
    "| _ -> false"
   ]
  },
  {
   "cell_type": "code",
   "execution_count": 24,
   "metadata": {},
   "outputs": [
    {
     "data": {
      "text/plain": [
       "- : bool = true\n"
      ]
     },
     "execution_count": 24,
     "metadata": {},
     "output_type": "execute_result"
    }
   ],
   "source": [
    "(* Small test *)\n",
    "let _, _, es, _ = g in es |> List.sort compare |> isloop"
   ]
  },
  {
   "cell_type": "code",
   "execution_count": 25,
   "metadata": {},
   "outputs": [
    {
     "data": {
      "text/plain": [
       "val check_path : path -> bool = <fun>\n"
      ]
     },
     "execution_count": 25,
     "metadata": {},
     "output_type": "execute_result"
    }
   ],
   "source": [
    "(*****************\n",
    " Overall solution \n",
    "******************)\n",
    "let check_path p = \n",
    "    let _, _, es, _ = graph_of_path (p, [0]) in \n",
    "    es |> List.sort compare |> isloop"
   ]
  },
  {
   "cell_type": "code",
   "execution_count": 26,
   "metadata": {},
   "outputs": [
    {
     "data": {
      "text/plain": [
       "- : bool = true\n"
      ]
     },
     "execution_count": 26,
     "metadata": {},
     "output_type": "execute_result"
    }
   ],
   "source": [
    "(* Small test *)\n",
    "check_path p"
   ]
  },
  {
   "cell_type": "code",
   "execution_count": 27,
   "metadata": {},
   "outputs": [
    {
     "data": {
      "text/plain": [
       "- : bool = false\n"
      ]
     },
     "execution_count": 27,
     "metadata": {},
     "output_type": "execute_result"
    }
   ],
   "source": [
    "(* A failed loop test *)\n",
    "check_path (Seq (I, Seq (I, I)))"
   ]
  },
  {
   "cell_type": "code",
   "execution_count": 28,
   "metadata": {},
   "outputs": [
    {
     "ename": "error",
     "evalue": "runtime_error",
     "output_type": "error",
     "traceback": [
      "\u001b[31mException: Invalid_argument \"List.combine\".\nRaised at file \"pervasives.ml\", line 33, characters 25-45\nCalled from file \"[21]\", line 39, characters 33-51\nCalled from file \"[25]\", line 5, characters 22-44\nCalled from file \"toplevel/toploop.ml\", line 180, characters 17-56\n\u001b[0m"
     ]
    }
   ],
   "source": [
    "(* An ill-formed graph test *)\n",
    "check_path (Seq (C, C))"
   ]
  },
  {
   "cell_type": "code",
   "execution_count": 29,
   "metadata": {},
   "outputs": [
    {
     "data": {
      "text/plain": [
       "- : string = \"Good luck!\"\n"
      ]
     },
     "execution_count": 29,
     "metadata": {},
     "output_type": "execute_result"
    }
   ],
   "source": [
    "\"Good luck!\""
   ]
  },
  {
   "cell_type": "code",
   "execution_count": null,
   "metadata": {},
   "outputs": [],
   "source": []
  }
 ],
 "metadata": {
  "kernelspec": {
   "display_name": "OCaml 4.03.0",
   "language": "OCaml",
   "name": "ocaml-jupyter"
  },
  "language_info": {
   "codemirror_mode": "text/x-ocaml",
   "file_extension": ".ml",
   "mimetype": "text/x-ocaml",
   "name": "OCaml",
   "nbconverter_exporter": null,
   "pygments_lexer": "OCaml",
   "version": "4.03.0"
  }
 },
 "nbformat": 4,
 "nbformat_minor": 2
}
